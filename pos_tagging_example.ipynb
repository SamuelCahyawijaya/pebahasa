{
 "cells": [
  {
   "cell_type": "markdown",
   "metadata": {},
   "source": [
    "### Ported Indonesian POS Tagging from https://github.com/pebbie/pebahasa"
   ]
  },
  {
   "cell_type": "code",
   "execution_count": 1,
   "metadata": {},
   "outputs": [],
   "source": [
    "import os\n",
    "\n",
    "from hmmtagger import MainTagger\n",
    "from tokenization import *"
   ]
  },
  {
   "cell_type": "code",
   "execution_count": 2,
   "metadata": {},
   "outputs": [
    {
     "data": {
      "text/plain": [
       "[('aku', 'NN'),\n",
       " ('adalah', 'VBT'),\n",
       " ('anak', 'NN'),\n",
       " ('gembala', 'NN'),\n",
       " ('.', '.'),\n",
       " ('Selalu', 'RB'),\n",
       " ('/', 'GM'),\n",
       " ('/', 'GM'),\n",
       " ('/', 'GM'),\n",
       " ('riang', 'JJ'),\n",
       " ('serta', 'CC'),\n",
       " ('gembira', 'JJ'),\n",
       " ('!', '.'),\n",
       " ('Karena', 'CC'),\n",
       " ('aku', 'NN'),\n",
       " ('senang', 'JJ'),\n",
       " ('bekerja', 'VBI'),\n",
       " ('tak', 'NEG'),\n",
       " ('pernah', 'RB'),\n",
       " ('malas', 'NN'),\n",
       " ('ataupun', 'CC'),\n",
       " ('lelah', 'JJ'),\n",
       " ('.', '.')]"
      ]
     },
     "execution_count": 2,
     "metadata": {},
     "output_type": "execute_result"
    }
   ],
   "source": [
    "mt = MainTagger(\"./resource/Lexicon.trn\", \"./resource/Ngram.trn\", 0, 3, 3, 0, 0, False, 0.2, 0, 500.0, 1)\n",
    "lines = ['aku adalah anak gembala. Selalu / riang serta gembira! Karena aku senang bekerja tak pernah malas ataupun lelah.']\n",
    "result = []\n",
    "for l in lines:\n",
    "    if len(l) == 0: continue\n",
    "    out = sentence_extraction(cleaning(l))\n",
    "    for o in out:\n",
    "        strtag = \" \".join(tokenisasi_kalimat(o)).strip()\n",
    "        result += mt.taggingStr(strtag)\n",
    "result"
   ]
  },
  {
   "cell_type": "code",
   "execution_count": null,
   "metadata": {},
   "outputs": [],
   "source": []
  }
 ],
 "metadata": {
  "kernelspec": {
   "display_name": "Python 3",
   "language": "python",
   "name": "python3"
  },
  "language_info": {
   "codemirror_mode": {
    "name": "ipython",
    "version": 3
   },
   "file_extension": ".py",
   "mimetype": "text/x-python",
   "name": "python",
   "nbconvert_exporter": "python",
   "pygments_lexer": "ipython3",
   "version": "3.7.6"
  }
 },
 "nbformat": 4,
 "nbformat_minor": 4
}
